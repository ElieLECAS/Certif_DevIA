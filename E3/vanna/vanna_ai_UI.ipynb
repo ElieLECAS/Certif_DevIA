{
 "cells": [
  {
   "cell_type": "code",
   "execution_count": 1,
   "metadata": {},
   "outputs": [],
   "source": [
    "from vanna.openai import OpenAI_Chat\n",
    "from vanna.chromadb import ChromaDB_VectorStore\n",
    "import os\n",
    "from dotenv import load_dotenv\n",
    "from langfuse.openai import openai\n",
    "\n",
    "load_dotenv()\n",
    "\n",
    "# Configuration des variables d'environnement pour Langfuse\n",
    "os.environ[\"LANGFUSE_SECRET_KEY\"] = os.getenv('LANGFUSE_SECRET_KEY', '')\n",
    "os.environ[\"LANGFUSE_PUBLIC_KEY\"] = os.getenv('LANGFUSE_PUBLIC_KEY', '')\n",
    "os.environ[\"LANGFUSE_HOST\"] = os.getenv('LANGFUSE_HOST', 'https://cloud.langfuse.com')\n",
    "\n",
    "class MyVanna(ChromaDB_VectorStore, OpenAI_Chat):\n",
    "    def __init__(self, config=None):\n",
    "        ChromaDB_VectorStore.__init__(self, config=config)\n",
    "        OpenAI_Chat.__init__(self, config=config)\n",
    "        \n",
    "        # Remplacer le client OpenAI par la version instrumentée Langfuse\n",
    "        if hasattr(self, '_client'):\n",
    "            # Sauvegarder la clé API\n",
    "            api_key = getattr(self._client, 'api_key', config.get('api_key'))\n",
    "            # Remplacer par le client Langfuse (drop-in replacement)\n",
    "            self._client = openai.OpenAI(api_key=api_key)\n",
    "            print(\"✅ Client OpenAI instrumenté avec Langfuse\")\n",
    "\n",
    "vn = MyVanna(config={'api_key':os.getenv('OPENAI_API_KEY'), 'model': 'gpt-4o-mini'})\n",
    "# vn.remove_training_data()\n",
    "\n",
    "vn.connect_to_postgres(host=os.getenv('POSTGRES_HOST'), dbname=os.getenv('POSTGRES_DB'), user=os.getenv('POSTGRES_USER'), password=os.getenv('POSTGRES_PASSWORD'), port=os.getenv('POSTGRES_PORT'))"
   ]
  },
  {
   "cell_type": "code",
   "execution_count": 2,
   "metadata": {},
   "outputs": [
    {
     "name": "stdout",
     "output_type": "stream",
     "text": [
      "📊 Dashboard: \n",
      "https://cloud.langfuse.com \n",
      "\n",
      "Your app is running at:\n",
      "http://localhost:8084\n",
      " * Serving Flask app 'vanna.flask'\n",
      " * Debug mode: on\n"
     ]
    }
   ],
   "source": [
    "from vanna.flask import VannaFlaskApp\n",
    "\n",
    "# Créer l'application Flask avec monitoring automatique Langfuse\n",
    "flask_app = VannaFlaskApp(vn, allow_llm_to_see_data=True)\n",
    "\n",
    "print(f\"📊 Dashboard: \\nhttps://cloud.langfuse.com \\n\")\n",
    "\n",
    "# Vérifier la connexion Langfuse\n",
    "try:\n",
    "    # Test simple pour vérifier la configuration\n",
    "    test_keys = [\n",
    "        (\"LANGFUSE_SECRET_KEY\", os.getenv('LANGFUSE_SECRET_KEY')),\n",
    "        (\"LANGFUSE_PUBLIC_KEY\", os.getenv('LANGFUSE_PUBLIC_KEY'))\n",
    "    ]\n",
    "    \n",
    "    missing_keys = [name for name, value in test_keys if not value]\n",
    "    \n",
    "    if missing_keys:\n",
    "        print(f\"⚠️ Variables manquantes: {', '.join(missing_keys)}\")\n",
    "        print(\"💡 Ajoutez-les à votre fichier .env pour activer le monitoring\")\n",
    "        \n",
    "except Exception as e:\n",
    "    print(f\"⚠️ Erreur de configuration Langfuse: {e}\")\n",
    "\n",
    "# Lancer l'application\n",
    "flask_app.run()"
   ]
  }
 ],
 "metadata": {
  "kernelspec": {
   "display_name": ".venv",
   "language": "python",
   "name": "python3"
  },
  "language_info": {
   "codemirror_mode": {
    "name": "ipython",
    "version": 3
   },
   "file_extension": ".py",
   "mimetype": "text/x-python",
   "name": "python",
   "nbconvert_exporter": "python",
   "pygments_lexer": "ipython3",
   "version": "3.12.3"
  }
 },
 "nbformat": 4,
 "nbformat_minor": 2
}
